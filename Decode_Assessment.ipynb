{
 "cells": [
  {
   "cell_type": "code",
   "execution_count": 1,
   "id": "e98076d8",
   "metadata": {},
   "outputs": [],
   "source": [
    "def encode(text, code):\n",
    "    words = []\n",
    "    keys = []\n",
    "    values = []\n",
    "    num = []\n",
    "    sent = []\n",
    "    step = 0\n",
    "    with open(text, 'r', encoding='utf-8-sig') as file:\n",
    "        for line in file:\n",
    "            for word in line.split():\n",
    "                words.append(word)\n",
    "        for i in range(0,len(words),2):\n",
    "            keys.append(int(words[i]))\n",
    "        for j in range(1,len(words)+1,2):\n",
    "            values.append(words[j])\n",
    "        pairs = zip(keys, values)\n",
    "        decoder = dict(pairs)\n",
    "        keys = sorted(keys)\n",
    "    \n",
    "    with open(code, 'r', encoding = 'utf-8-sig') as message:\n",
    "        for line in message:\n",
    "            for number in line.split():\n",
    "                num.append(number)\n",
    "        for i in range(len(num)):\n",
    "            while step + i < len(num):\n",
    "                if len(num) >= step:\n",
    "                    sent.append(int(num[step+i]))\n",
    "                    step += 1\n",
    "                    num = num[step:]\n",
    "        phrase = str()\n",
    "        for j in range(len(sent)):\n",
    "            phrase += decoder[sent[j]] + ' '\n",
    "        print(phrase)"
   ]
  },
  {
   "cell_type": "code",
   "execution_count": 2,
   "id": "45e70c3d",
   "metadata": {},
   "outputs": [
    {
     "name": "stdout",
     "output_type": "stream",
     "text": [
      "I love computers \n"
     ]
    }
   ],
   "source": [
    "encode('decode.txt', 'code.txt')"
   ]
  },
  {
   "cell_type": "code",
   "execution_count": null,
   "id": "a00c9467",
   "metadata": {},
   "outputs": [],
   "source": []
  }
 ],
 "metadata": {
  "kernelspec": {
   "display_name": "Python 3 (ipykernel)",
   "language": "python",
   "name": "python3"
  },
  "language_info": {
   "codemirror_mode": {
    "name": "ipython",
    "version": 3
   },
   "file_extension": ".py",
   "mimetype": "text/x-python",
   "name": "python",
   "nbconvert_exporter": "python",
   "pygments_lexer": "ipython3",
   "version": "3.9.18"
  }
 },
 "nbformat": 4,
 "nbformat_minor": 5
}
